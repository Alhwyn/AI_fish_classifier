{
 "cells": [
  {
   "cell_type": "code",
   "execution_count": 3,
   "metadata": {},
   "outputs": [],
   "source": [
    "import IPython\n",
    "from dotenv import load_dotenv\n",
    "import os \n",
    "import vertexai\n",
    "from IPython.display import Markdown, Video, display \n",
    "import pandas as pd\n",
    "from io import StringIO\n",
    "import json\n",
    "\n",
    "from vertexai.preview.generative_models import (\n",
    "    GenerationConfig,\n",
    "    GenerativeModel,\n",
    "    HarmCategory,\n",
    "    HarmBlockThreshold,\n",
    "    Part,\n",
    "    Tool,\n",
    "    FunctionDeclaration,\n",
    ")"
   ]
  },
  {
   "cell_type": "code",
   "execution_count": 4,
   "metadata": {},
   "outputs": [
    {
     "data": {
      "text/plain": [
       "True"
      ]
     },
     "execution_count": 4,
     "metadata": {},
     "output_type": "execute_result"
    }
   ],
   "source": [
    "load_dotenv()"
   ]
  },
  {
   "cell_type": "code",
   "execution_count": 5,
   "metadata": {},
   "outputs": [],
   "source": [
    "project_id = os.getenv('PROJECT_ID')\n",
    "location = \"us-west1\"\n",
    "\n",
    "vertexai.init(project=project_id, location=location)"
   ]
  },
  {
   "cell_type": "code",
   "execution_count": 6,
   "metadata": {},
   "outputs": [],
   "source": [
    "model = GenerativeModel(\"gemini-1.5-pro-001\")\n",
    "\n",
    "generation_config = GenerationConfig(temperature=1, top_p=0.95)\n",
    "\n",
    "safety_settings = {\n",
    "    HarmCategory.HARM_CATEGORY_HATE_SPEECH: HarmBlockThreshold.BLOCK_ONLY_HIGH,\n",
    "    HarmCategory.HARM_CATEGORY_DANGEROUS_CONTENT: HarmBlockThreshold.BLOCK_ONLY_HIGH,\n",
    "    HarmCategory.HARM_CATEGORY_SEXUALLY_EXPLICIT: HarmBlockThreshold.BLOCK_ONLY_HIGH,\n",
    "    HarmCategory.HARM_CATEGORY_HARASSMENT: HarmBlockThreshold.BLOCK_ONLY_HIGH,\n",
    "}"
   ]
  },
  {
   "cell_type": "code",
   "execution_count": 7,
   "metadata": {},
   "outputs": [],
   "source": [
    "instructions = \"\"\"  \n",
    "Please return JSON of the vernacular name of the fish and coral species, the scientific name, and the initial timestamp identified from the video. Use this\n",
    "example following the schema:\n",
    "\n",
    "    {\"vernacular name\": str, \"scientific name\": str, \"timestamp\": str}\n",
    "\n",
    "    All fields are required.\n",
    "\n",
    "               \"\"\""
   ]
  },
  {
   "cell_type": "code",
   "execution_count": 8,
   "metadata": {},
   "outputs": [],
   "source": [
    "def get_url_from_gcs(gcs_uri: str) -> str:\n",
    "    return gcs_uri.replace(\"gs://\", \"https://storage.googleapis.com/\").replace(\n",
    "        \" \", \"%20\"\n",
    "    )"
   ]
  },
  {
   "cell_type": "code",
   "execution_count": 9,
   "metadata": {},
   "outputs": [
    {
     "data": {
      "text/html": [
       "<video src=\"https://storage.googleapis.com/fish-dataset-test/fish_data6.mp4\" controls  >\n",
       "      Your browser does not support the <code>video</code> element.\n",
       "    </video>"
      ],
      "text/plain": [
       "<IPython.core.display.Video object>"
      ]
     },
     "metadata": {},
     "output_type": "display_data"
    }
   ],
   "source": [
    "video_uri = 'gs://fish-dataset-test/fish_data6.mp4'\n",
    "\n",
    "video_url = 'https://www.youtube.com/watch?v=PmiMsvhxP9A'\n",
    "\n",
    "contents = [\n",
    "    Part.from_uri(\n",
    "        uri=video_uri,\n",
    "        mime_type=\"video/mp4\",\n",
    "    ),\n",
    "    instructions\n",
    "]\n",
    "\n",
    "display(Video(get_url_from_gcs(video_uri)))"
   ]
  },
  {
   "cell_type": "code",
   "execution_count": 10,
   "metadata": {},
   "outputs": [
    {
     "name": "stderr",
     "output_type": "stream",
     "text": [
      "WARNING: All log messages before absl::InitializeLog() is called are written to STDERR\n",
      "I0000 00:00:1723939126.077977 10690892 check_gcp_environment_no_op.cc:29] ALTS: Platforms other than Linux and Windows are not supported\n"
     ]
    }
   ],
   "source": [
    "response = model.generate_content(contents, generation_config=generation_config)\n",
    "\n"
   ]
  },
  {
   "cell_type": "code",
   "execution_count": 11,
   "metadata": {},
   "outputs": [
    {
     "name": "stdout",
     "output_type": "stream",
     "text": [
      "```json\n",
      "[\n",
      "    {\"vernacular name\": \"Reticulated dascyllus\", \"scientific name\": \"Dascyllus reticulatus\", \"timestamp\": \"0:00\"},\n",
      "    {\"vernacular name\": \"Black and white fish\", \"scientific name\": \"Dascyllus arustus\", \"timestamp\": \"0:05\"},\n",
      "    {\"vernacular name\": \"Royal angelfish\", \"scientific name\": \"Pygoplites diacanthus\", \"timestamp\": \"0:25\"},\n",
      "    {\"vernacular name\": \"Orange fish\", \"scientific name\": \"Centropyge aurantia\", \"timestamp\": \"0:38\"},\n",
      "    {\"vernacular name\": \"Staghorn coral\", \"scientific name\": \"Acropora cervicornis\", \"timestamp\": \"0:41\"}\n",
      "]\n",
      "```\n"
     ]
    }
   ],
   "source": [
    "print(response.text)"
   ]
  },
  {
   "cell_type": "code",
   "execution_count": 12,
   "metadata": {},
   "outputs": [],
   "source": [
    "data = response.text.replace('*', '').replace(\"\\n\", \"\").replace('json', \"\").replace(\"`\", \"\")"
   ]
  },
  {
   "cell_type": "code",
   "execution_count": 13,
   "metadata": {},
   "outputs": [
    {
     "data": {
      "text/plain": [
       "'[    {\"vernacular name\": \"Reticulated dascyllus\", \"scientific name\": \"Dascyllus reticulatus\", \"timestamp\": \"0:00\"},    {\"vernacular name\": \"Black and white fish\", \"scientific name\": \"Dascyllus arustus\", \"timestamp\": \"0:05\"},    {\"vernacular name\": \"Royal angelfish\", \"scientific name\": \"Pygoplites diacanthus\", \"timestamp\": \"0:25\"},    {\"vernacular name\": \"Orange fish\", \"scientific name\": \"Centropyge aurantia\", \"timestamp\": \"0:38\"},    {\"vernacular name\": \"Staghorn coral\", \"scientific name\": \"Acropora cervicornis\", \"timestamp\": \"0:41\"}]'"
      ]
     },
     "execution_count": 13,
     "metadata": {},
     "output_type": "execute_result"
    }
   ],
   "source": [
    "data"
   ]
  },
  {
   "cell_type": "code",
   "execution_count": 14,
   "metadata": {},
   "outputs": [],
   "source": [
    "\n",
    "json_data = json.dumps(json.loads(data), indent=4)"
   ]
  },
  {
   "cell_type": "code",
   "execution_count": 15,
   "metadata": {},
   "outputs": [],
   "source": [
    "json_buffer = StringIO(json_data)"
   ]
  },
  {
   "cell_type": "code",
   "execution_count": 16,
   "metadata": {},
   "outputs": [],
   "source": [
    "df = pd.read_json(json_buffer)"
   ]
  },
  {
   "cell_type": "code",
   "execution_count": 17,
   "metadata": {},
   "outputs": [
    {
     "data": {
      "text/html": [
       "<div>\n",
       "<style scoped>\n",
       "    .dataframe tbody tr th:only-of-type {\n",
       "        vertical-align: middle;\n",
       "    }\n",
       "\n",
       "    .dataframe tbody tr th {\n",
       "        vertical-align: top;\n",
       "    }\n",
       "\n",
       "    .dataframe thead th {\n",
       "        text-align: right;\n",
       "    }\n",
       "</style>\n",
       "<table border=\"1\" class=\"dataframe\">\n",
       "  <thead>\n",
       "    <tr style=\"text-align: right;\">\n",
       "      <th></th>\n",
       "      <th>vernacular name</th>\n",
       "      <th>scientific name</th>\n",
       "      <th>timestamp</th>\n",
       "    </tr>\n",
       "  </thead>\n",
       "  <tbody>\n",
       "    <tr>\n",
       "      <th>0</th>\n",
       "      <td>Reticulated dascyllus</td>\n",
       "      <td>Dascyllus reticulatus</td>\n",
       "      <td>2024-08-17 00:00:00</td>\n",
       "    </tr>\n",
       "    <tr>\n",
       "      <th>1</th>\n",
       "      <td>Black and white fish</td>\n",
       "      <td>Dascyllus arustus</td>\n",
       "      <td>2024-08-17 00:05:00</td>\n",
       "    </tr>\n",
       "    <tr>\n",
       "      <th>2</th>\n",
       "      <td>Royal angelfish</td>\n",
       "      <td>Pygoplites diacanthus</td>\n",
       "      <td>2024-08-17 00:25:00</td>\n",
       "    </tr>\n",
       "    <tr>\n",
       "      <th>3</th>\n",
       "      <td>Orange fish</td>\n",
       "      <td>Centropyge aurantia</td>\n",
       "      <td>2024-08-17 00:38:00</td>\n",
       "    </tr>\n",
       "    <tr>\n",
       "      <th>4</th>\n",
       "      <td>Staghorn coral</td>\n",
       "      <td>Acropora cervicornis</td>\n",
       "      <td>2024-08-17 00:41:00</td>\n",
       "    </tr>\n",
       "  </tbody>\n",
       "</table>\n",
       "</div>"
      ],
      "text/plain": [
       "         vernacular name        scientific name           timestamp\n",
       "0  Reticulated dascyllus  Dascyllus reticulatus 2024-08-17 00:00:00\n",
       "1   Black and white fish      Dascyllus arustus 2024-08-17 00:05:00\n",
       "2        Royal angelfish  Pygoplites diacanthus 2024-08-17 00:25:00\n",
       "3            Orange fish    Centropyge aurantia 2024-08-17 00:38:00\n",
       "4         Staghorn coral   Acropora cervicornis 2024-08-17 00:41:00"
      ]
     },
     "execution_count": 17,
     "metadata": {},
     "output_type": "execute_result"
    }
   ],
   "source": [
    "df"
   ]
  }
 ],
 "metadata": {
  "kernelspec": {
   "display_name": "myenv",
   "language": "python",
   "name": "python3"
  },
  "language_info": {
   "codemirror_mode": {
    "name": "ipython",
    "version": 3
   },
   "file_extension": ".py",
   "mimetype": "text/x-python",
   "name": "python",
   "nbconvert_exporter": "python",
   "pygments_lexer": "ipython3",
   "version": "3.12.4"
  }
 },
 "nbformat": 4,
 "nbformat_minor": 2
}
